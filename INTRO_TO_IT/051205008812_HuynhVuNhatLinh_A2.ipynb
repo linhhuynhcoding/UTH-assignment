{
 "cells": [
  {
   "cell_type": "markdown",
   "id": "ecb5049c",
   "metadata": {},
   "source": [
    "1."
   ]
  },
  {
   "cell_type": "code",
   "execution_count": 1,
   "id": "dd3a6f63",
   "metadata": {},
   "outputs": [
    {
     "name": "stdout",
     "output_type": "stream",
     "text": [
      "You are 8030 days old\n"
     ]
    }
   ],
   "source": [
    "age = int(input())\n",
    "\n",
    "print(f\"You are {age*365} days old\")"
   ]
  },
  {
   "cell_type": "markdown",
   "id": "5bf61511",
   "metadata": {},
   "source": [
    "2."
   ]
  },
  {
   "cell_type": "code",
   "execution_count": 12,
   "id": "6b32be01",
   "metadata": {},
   "outputs": [
    {
     "name": "stdout",
     "output_type": "stream",
     "text": [
      "Current date and time\n",
      "Tuesday, 21/11/2023, 12:22:25\n"
     ]
    }
   ],
   "source": [
    "import datetime\n",
    "today = datetime.datetime.now()\n",
    "print(\"Current date and time\")\n",
    "print(f\"{today:%A, %d/%m/%Y, %H:%M:%S}\")\n",
    "\n"
   ]
  },
  {
   "cell_type": "markdown",
   "id": "038f45ca",
   "metadata": {},
   "source": [
    "3."
   ]
  },
  {
   "cell_type": "code",
   "execution_count": 16,
   "id": "d5d8e1f7",
   "metadata": {},
   "outputs": [
    {
     "name": "stdout",
     "output_type": "stream",
     "text": [
      "Length of list : 4\n",
      "Sum of Items : 19\n"
     ]
    }
   ],
   "source": [
    "s = str(input(\"Input a list of comma-separated integer numbers : \"))\n",
    "array = s.split(\",\")\n",
    "sumofItems = 0\n",
    "for i in array :\n",
    "    sumofItems = sumofItems + int(i)\n",
    "print(f\"Length of list : {len(array)}\")\n",
    "print(f\"Sum of Items : {sumofItems}\")\n"
   ]
  },
  {
   "cell_type": "markdown",
   "id": "f4c04734",
   "metadata": {},
   "source": [
    "4."
   ]
  },
  {
   "cell_type": "code",
   "execution_count": 50,
   "id": "7e918d22",
   "metadata": {},
   "outputs": [
    {
     "name": "stdout",
     "output_type": "stream",
     "text": [
      "Number 1 : 0.7066\n",
      "Number 2 : 0.5474\n",
      "Number 3 : 0.8145\n",
      "Number 4 : 0.5403\n",
      "Number 5 : 0.9638\n",
      "Average : 3.5726\n",
      "Minimum : 0.5403\n",
      "Maximum : 0.9638\n"
     ]
    }
   ],
   "source": [
    "import random\n",
    "average = 0\n",
    "minimum = 1.1\n",
    "maximum = -0.1\n",
    "for i in range(1,6) :\n",
    "    tmp = random.random()\n",
    "    average += tmp\n",
    "    minimum = min(minimum, tmp)\n",
    "    maximum = max(maximum, tmp)\n",
    "    print(f\"Number {i} : {tmp:.4f}\", end= \"\\n\")\n",
    "\n",
    "print(f\"Average : {average:.4f}\")\n",
    "print(f\"Minimum : {minimum:.4f}\")\n",
    "print(f\"Maximum : {maximum:.4f}\")"
   ]
  }
 ],
 "metadata": {
  "kernelspec": {
   "display_name": "Python 3 (ipykernel)",
   "language": "python",
   "name": "python3"
  },
  "language_info": {
   "codemirror_mode": {
    "name": "ipython",
    "version": 3
   },
   "file_extension": ".py",
   "mimetype": "text/x-python",
   "name": "python",
   "nbconvert_exporter": "python",
   "pygments_lexer": "ipython3",
   "version": "3.11.5"
  }
 },
 "nbformat": 4,
 "nbformat_minor": 5
}
