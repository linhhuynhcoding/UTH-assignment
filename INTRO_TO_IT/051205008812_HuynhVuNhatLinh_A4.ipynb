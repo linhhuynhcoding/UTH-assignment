{
 "cells": [
  {
   "cell_type": "markdown",
   "id": "ecb5049c",
   "metadata": {},
   "source": [
    "1."
   ]
  },
  {
   "cell_type": "code",
   "execution_count": null,
   "id": "dd3a6f63",
   "metadata": {},
   "outputs": [
    {
     "name": "stdout",
     "output_type": "stream",
     "text": [
      "The area of the triangle is 0.43\n"
     ]
    }
   ],
   "source": [
    "from math import pi as PI\n",
    "from math import sqrt\n",
    "\n",
    "def isValid(side1, side2, side3) :\n",
    "    if side1*side2*side3 == 0 :\n",
    "        return False\n",
    "    if side1 + side2 < side3 :\n",
    "        return False\n",
    "    elif side1 + side3 < side2 :\n",
    "        return False\n",
    "    elif side2 + side3 < side1 :\n",
    "        return False\n",
    "    return True\n",
    "\n",
    "def area(side1, side2, side3) :\n",
    "    if isValid(side1, side2, side3) == False:\n",
    "        print(\"Inputs are invalid\")\n",
    "        return\n",
    "    peri = (side1 + side2 + side3)/2\n",
    "    area = sqrt(peri*(peri - side1)*(peri - side2)*(peri - side3))\n",
    "    print(f\"The area of the triangle is {area:,.2f}\")\n",
    "\n",
    "\n",
    "inps = input(\"Enter three sides: \")\n",
    "inp = inps.split(\",\")\n",
    "\n",
    "area(int(inp[0]), int(inp[1]), int(inp[2]))"
   ]
  },
  {
   "cell_type": "markdown",
   "id": "5bf61511",
   "metadata": {},
   "source": [
    "2."
   ]
  },
  {
   "cell_type": "code",
   "execution_count": 12,
   "id": "6b32be01",
   "metadata": {},
   "outputs": [
    {
     "name": "stdout",
     "output_type": "stream",
     "text": [
      "The random integer with exactly 3 digits is 547\n"
     ]
    }
   ],
   "source": [
    "import random\n",
    "def ndigit_random(n) :\n",
    "    if n < 1 : \n",
    "        print(\"{n} is invalid!\")\n",
    "        return\n",
    "    ans = random.randint(1, 10) \n",
    "    n -= 1\n",
    "    while n > 0:\n",
    "        digit = random.randint(0, 10)\n",
    "        ans = ans*10 + digit\n",
    "        n -= 1\n",
    "    print(f\"The random integer with exactly {n} digits is {ans}\")\n",
    "\n",
    "n = eval(input(\"Input your number of digit : \"))\n",
    "ndigit_random(n)\n"
   ]
  },
  {
   "cell_type": "markdown",
   "id": "038f45ca",
   "metadata": {},
   "source": [
    "3."
   ]
  },
  {
   "cell_type": "code",
   "execution_count": 26,
   "id": "d5d8e1f7",
   "metadata": {},
   "outputs": [
    {
     "name": "stdout",
     "output_type": "stream",
     "text": [
      "The number of even digits in 34568 is 3\n"
     ]
    }
   ],
   "source": [
    "def even_digits(n) :\n",
    "    if n < 0 : \n",
    "        print(\"{n} is invalid!\")\n",
    "        return\n",
    "    cnt = 0 \n",
    "    while n > 0 :\n",
    "        digit = n % 10\n",
    "        if digit % 2 == 0 :\n",
    "            cnt += 1\n",
    "        n = n // 10\n",
    "    print(f\"The number of even digits in {n} is {cnt}\")\n",
    "    \n",
    "\n",
    "n = eval(input(\"Input your number : \"))\n",
    "even_digits(n)"
   ]
  },
  {
   "cell_type": "markdown",
   "metadata": {},
   "source": [
    "4."
   ]
  },
  {
   "cell_type": "code",
   "execution_count": 28,
   "metadata": {},
   "outputs": [
    {
     "name": "stdout",
     "output_type": "stream",
     "text": [
      "The number of even digits in 10 is 4\n"
     ]
    }
   ],
   "source": [
    "def number_of_divisors(n) :\n",
    "    if n < 0 : \n",
    "        print(\"{n} is invalid!\")\n",
    "        return\n",
    "    cnt = 0 \n",
    "    for i in range(1, n + 1) :\n",
    "        if n % i == 0 :\n",
    "            cnt += 1\n",
    "    print(f\"The number of even digits in {n} is {cnt}\")\n",
    "    \n",
    "\n",
    "n = eval(input(\"Input your number : \"))\n",
    "number_of_divisors(n)"
   ]
  }
 ],
 "metadata": {
  "kernelspec": {
   "display_name": "Python 3 (ipykernel)",
   "language": "python",
   "name": "python3"
  },
  "language_info": {
   "codemirror_mode": {
    "name": "ipython",
    "version": 3
   },
   "file_extension": ".py",
   "mimetype": "text/x-python",
   "name": "python",
   "nbconvert_exporter": "python",
   "pygments_lexer": "ipython3",
   "version": "3.11.5"
  }
 },
 "nbformat": 4,
 "nbformat_minor": 5
}
