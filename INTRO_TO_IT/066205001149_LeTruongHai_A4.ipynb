{
 "cells": [
  {
   "cell_type": "markdown",
   "id": "ecb5049c",
   "metadata": {},
   "source": [
    "1."
   ]
  },
  {
   "cell_type": "code",
   "execution_count": 7,
   "id": "dd3a6f63",
   "metadata": {},
   "outputs": [
    {
     "name": "stdout",
     "output_type": "stream",
     "text": [
      "The area of the triangle is 0.43\n"
     ]
    }
   ],
   "source": [
    "import math\n",
    "\n",
    "def isValid( side1, side2, side3):\n",
    "  \n",
    "   if (side1 <= 0 or side2 <= 0 or side3 <= 0):\n",
    "       return False\n",
    " \n",
    "   if (side1 + side2 <= side3 or side2 + side3 <= side1 or side3 + side1 <= side2):\n",
    "       return False\n",
    "   return True\n",
    "\n",
    "def area( side1, side2, side3):\n",
    "   \n",
    "   if (isValid(side1, side2, side3) == False):\n",
    "       print(\"Inputs are invalid\")\n",
    "       return\n",
    "\n",
    "  \n",
    "   s = (side1 + side2 + side3) / 2\n",
    "\n",
    "   \n",
    "   return area\n",
    "\n",
    "\n",
    "side1, side2, side3 = 1, 1, 1\n",
    "area_result = area(side1, side2, side3)\n",
    "if area_result is not None:\n",
    "    print(\"The area of the triangle is {:.2f}\".format(area_result))"
   ]
  },
  {
   "cell_type": "markdown",
   "id": "5bf61511",
   "metadata": {},
   "source": [
    "2."
   ]
  },
  {
   "cell_type": "code",
   "execution_count": 12,
   "id": "6b32be01",
   "metadata": {},
   "outputs": [
    {
     "name": "stdout",
     "output_type": "stream",
     "text": [
      "The random integer with exactly 3 digits is 547\n"
     ]
    }
   ],
   "source": [
    "import random\n",
    "\n",
    "def ndigit_random(n):\n",
    "  \n",
    "  if n == 0:\n",
    "    return 0\n",
    "  else:\n",
    "    return random.randint(10**(n-1), 10**n-1)"
   ]
  },
  {
   "cell_type": "markdown",
   "id": "038f45ca",
   "metadata": {},
   "source": [
    "3."
   ]
  },
  {
   "cell_type": "code",
   "execution_count": 26,
   "id": "d5d8e1f7",
   "metadata": {},
   "outputs": [
    {
     "name": "stdout",
     "output_type": "stream",
     "text": [
      "The number of even digits in 34568 is 3\n"
     ]
    }
   ],
   "source": [
    "def even_digits(n):\n",
    "  count = 0\n",
    "  while n > 0:\n",
    "    digit = n % 10\n",
    "    if digit % 2 == 0:\n",
    "      count += 1\n",
    "    n //= 10\n",
    "  return count"
   ]
  }
 ],
 "metadata": {
  "kernelspec": {
   "display_name": "Python 3 (ipykernel)",
   "language": "python",
   "name": "python3"
  },
  "language_info": {
   "codemirror_mode": {
    "name": "ipython",
    "version": 3
   },
   "file_extension": ".py",
   "mimetype": "text/x-python",
   "name": "python",
   "nbconvert_exporter": "python",
   "pygments_lexer": "ipython3",
   "version": "3.11.5"
  }
 },
 "nbformat": 4,
 "nbformat_minor": 5
}
