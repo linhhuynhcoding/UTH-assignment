{
 "cells": [
  {
   "cell_type": "markdown",
   "id": "9e7892a4",
   "metadata": {},
   "source": [
    "1."
   ]
  },
  {
   "cell_type": "code",
   "execution_count": 1,
   "id": "7eac0f2f",
   "metadata": {},
   "outputs": [
    {
     "name": "stdout",
     "output_type": "stream",
     "text": [
      "7.0685775\n"
     ]
    }
   ],
   "source": [
    "pi = 3.14159\n",
    "diameter = 3\n",
    "\n",
    "radius = diameter/2\n",
    "area = (radius**2)*pi\n",
    "\n",
    "print(area)"
   ]
  },
  {
   "cell_type": "markdown",
   "id": "8f7791f2",
   "metadata": {},
   "source": [
    "2."
   ]
  },
  {
   "cell_type": "code",
   "execution_count": 3,
   "id": "dcd3f19f",
   "metadata": {},
   "outputs": [
    {
     "name": "stdout",
     "output_type": "stream",
     "text": [
      "Then he said \"I don't know\"\n"
     ]
    }
   ],
   "source": [
    "s = 'Then he said \"I don\\'t know\"'\n",
    "print(s)"
   ]
  },
  {
   "cell_type": "markdown",
   "id": "6432ddf2",
   "metadata": {},
   "source": [
    "3."
   ]
  },
  {
   "cell_type": "code",
   "execution_count": 4,
   "id": "1ec29f04",
   "metadata": {},
   "outputs": [
    {
     "name": "stdout",
     "output_type": "stream",
     "text": [
      "+-+-+-+-+-+-+-+-+-+-+-+-+-+-+-+-+-+-+-+-+-+-+ \n",
      " 45\n"
     ]
    }
   ],
   "source": [
    "a = \"+\"\n",
    "b = \"-\"\n",
    "c = a + b\n",
    "\n",
    "s = c*22 + a\n",
    "\n",
    "print(s, \"\\n\", len(s))"
   ]
  },
  {
   "cell_type": "markdown",
   "id": "fd07e31a",
   "metadata": {},
   "source": [
    "4."
   ]
  },
  {
   "cell_type": "code",
   "execution_count": 6,
   "id": "a4d2ad06",
   "metadata": {},
   "outputs": [
    {
     "name": "stdout",
     "output_type": "stream",
     "text": [
      "1544.25\n"
     ]
    }
   ],
   "source": [
    "priceofBook = 24.95\n",
    "costofFirstCope = 3\n",
    "\n",
    "c = costofFirstCope + priceofBook*60 + 59*.75\n",
    "\n",
    "print(c)"
   ]
  },
  {
   "cell_type": "markdown",
   "id": "4840a422",
   "metadata": {},
   "source": [
    "5."
   ]
  },
  {
   "cell_type": "code",
   "execution_count": 17,
   "id": "a340253b",
   "metadata": {},
   "outputs": [
    {
     "name": "stdout",
     "output_type": "stream",
     "text": [
      "7 : 30 : 6\n"
     ]
    }
   ],
   "source": [
    "hour_time = 6;\n",
    "min_time = 52;\n",
    "sec_time = 0;\n",
    "\n",
    "total = hour_time*60*60 + min_time*60 + sec_time\n",
    "total += (8*2 + 7*3)*60 + 15*2 + 12*3\n",
    "\n",
    "print(int((total/60)/60),\":\", int((total/60)%60),\":\",int(total%60))"
   ]
  },
  {
   "cell_type": "markdown",
   "id": "41514245",
   "metadata": {},
   "source": [
    "6."
   ]
  },
  {
   "cell_type": "code",
   "execution_count": null,
   "id": "48c64ae5",
   "metadata": {},
   "outputs": [],
   "source": [
    "buyAmount = eval(input(\"Nhập số tiền mua hàng: \"))\n",
    "thuế = buyAmount * 0.06\n",
    "formatted_tax = \"{:.2f}\".format(thuế)\n",
    "print(\"Thuế doanh thu là\", formatted_tax)"
   ]
  },
  {
   "cell_type": "code",
   "execution_count": null,
   "id": "61cbcf88",
   "metadata": {},
   "outputs": [],
   "source": []
  }
 ],
 "metadata": {
  "kernelspec": {
   "display_name": "Python 3 (ipykernel)",
   "language": "python",
   "name": "python3"
  },
  "language_info": {
   "codemirror_mode": {
    "name": "ipython",
    "version": 3
   },
   "file_extension": ".py",
   "mimetype": "text/x-python",
   "name": "python",
   "nbconvert_exporter": "python",
   "pygments_lexer": "ipython3",
   "version": "3.11.5"
  }
 },
 "nbformat": 4,
 "nbformat_minor": 5
}
