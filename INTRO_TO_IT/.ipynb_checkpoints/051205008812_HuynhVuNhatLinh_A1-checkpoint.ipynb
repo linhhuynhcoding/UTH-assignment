{
 "cells": [
  {
   "cell_type": "markdown",
   "id": "ecb5049c",
   "metadata": {},
   "source": [
    "1."
   ]
  },
  {
   "cell_type": "code",
   "execution_count": 2,
   "id": "dd3a6f63",
   "metadata": {},
   "outputs": [
    {
     "name": "stdout",
     "output_type": "stream",
     "text": [
      "7.0685775\n"
     ]
    }
   ],
   "source": [
    "pi = 3.14159\n",
    "diameter = 3\n",
    "\n",
    "radius = diameter/2\n",
    "area = (radius**2)*pi\n",
    "\n",
    "print(area)"
   ]
  },
  {
   "cell_type": "markdown",
   "id": "5bf61511",
   "metadata": {},
   "source": [
    "2."
   ]
  },
  {
   "cell_type": "code",
   "execution_count": 3,
   "id": "6b32be01",
   "metadata": {},
   "outputs": [
    {
     "name": "stdout",
     "output_type": "stream",
     "text": [
      "Then he said \"I don't know\"\n"
     ]
    }
   ],
   "source": [
    "s = 'Then he said \"I don\\'t know\"'\n",
    "print(s)"
   ]
  },
  {
   "cell_type": "markdown",
   "id": "038f45ca",
   "metadata": {},
   "source": [
    "3."
   ]
  },
  {
   "cell_type": "code",
   "execution_count": 4,
   "id": "d5d8e1f7",
   "metadata": {},
   "outputs": [
    {
     "name": "stdout",
     "output_type": "stream",
     "text": [
      "+-+-+-+-+-+-+-+-+-+-+-+-+-+-+-+-+-+-+-+-+-+-+ \n",
      " 45\n"
     ]
    }
   ],
   "source": [
    "a = \"+\"\n",
    "b = \"-\"\n",
    "c = a + b\n",
    "\n",
    "s = c*22 + a\n",
    "\n",
    "print(s, \"\\n\", len(s))"
   ]
  },
  {
   "cell_type": "markdown",
   "id": "f4c04734",
   "metadata": {},
   "source": [
    "4."
   ]
  },
  {
   "cell_type": "code",
   "execution_count": 5,
   "id": "7e918d22",
   "metadata": {},
   "outputs": [
    {
     "name": "stdout",
     "output_type": "stream",
     "text": [
      "1544.25\n"
     ]
    }
   ],
   "source": [
    "priceofBook = 24.95\n",
    "costofFirstCope = 3\n",
    "\n",
    "c = costofFirstCope + priceofBook*60 + 59*.75\n",
    "\n",
    "print(c)"
   ]
  },
  {
   "cell_type": "markdown",
   "id": "dcff633b",
   "metadata": {},
   "source": [
    "5."
   ]
  },
  {
   "cell_type": "code",
   "execution_count": 6,
   "id": "19ff9e84",
   "metadata": {},
   "outputs": [
    {
     "name": "stdout",
     "output_type": "stream",
     "text": [
      "7 : 30 : 6\n"
     ]
    }
   ],
   "source": [
    "hour_time = 6\n",
    "min_time = 52\n",
    "sec_time = 0\n",
    "\n",
    "total = hour_time*60*60 + min_time*60 + sec_time\n",
    "total += (8*2 + 7*3)*60 + 15*2 + 12*3\n",
    "\n",
    "print(int((total/60)/60),\":\", int((total/60)%60),\":\",int(total%60))"
   ]
  },
  {
   "cell_type": "markdown",
   "id": "2b69ff5b",
   "metadata": {},
   "source": [
    "6."
   ]
  },
  {
   "cell_type": "code",
   "execution_count": 8,
   "id": "745d2234",
   "metadata": {},
   "outputs": [
    {
     "name": "stdout",
     "output_type": "stream",
     "text": [
      "Sales tax is::74.04\n"
     ]
    }
   ],
   "source": [
    "purchaseAmount = eval(input(\"Enter purchase amount: \"))\n",
    "tax = float(purchaseAmount * 0.06)\n",
    "step = (tax*1000)%1000\n",
    "digit1 = int(step//100)\n",
    "digit2 = round((step%100)/10)\n",
    "print(\"Sales tax is::\",int(tax),\".\",digit1,digit2, sep=\"\")"
   ]
  },
  {
   "cell_type": "markdown",
   "id": "391db424",
   "metadata": {},
   "source": [
    "### "
   ]
  },
  {
   "cell_type": "code",
   "execution_count": 2,
   "id": "7bf5a26c",
   "metadata": {},
   "outputs": [
    {
     "data": {
      "text/plain": [
       "'D:\\\\CODE\\\\UTH\\\\010412204211_Nhapmon'"
      ]
     },
     "execution_count": 2,
     "metadata": {},
     "output_type": "execute_result"
    }
   ],
   "source": [
    "pwd"
   ]
  },
  {
   "cell_type": "code",
   "execution_count": null,
   "id": "3c65b33e",
   "metadata": {},
   "outputs": [],
   "source": []
  }
 ],
 "metadata": {
  "kernelspec": {
   "display_name": "Python 3 (ipykernel)",
   "language": "python",
   "name": "python3"
  },
  "language_info": {
   "codemirror_mode": {
    "name": "ipython",
    "version": 3
   },
   "file_extension": ".py",
   "mimetype": "text/x-python",
   "name": "python",
   "nbconvert_exporter": "python",
   "pygments_lexer": "ipython3",
   "version": "3.11.5"
  }
 },
 "nbformat": 4,
 "nbformat_minor": 5
}
