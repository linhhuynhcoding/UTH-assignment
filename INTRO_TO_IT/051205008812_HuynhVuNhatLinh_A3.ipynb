{
 "cells": [
  {
   "cell_type": "markdown",
   "id": "ecb5049c",
   "metadata": {},
   "source": [
    "1."
   ]
  },
  {
   "cell_type": "code",
   "execution_count": 1,
   "id": "dd3a6f63",
   "metadata": {},
   "outputs": [
    {
     "name": "stdout",
     "output_type": "stream",
     "text": [
      "dragon\n"
     ]
    }
   ],
   "source": [
    "year = eval(input(\"Enter year : \"))\n",
    "ans = year - year//12*12\n",
    "if ans == 0:\n",
    "    print(\"monkey\")\n",
    "elif ans == 1:\n",
    "    print(\"rooster\")\n",
    "elif ans == 2:\n",
    "    print(\"dog\")\n",
    "elif ans == 3:\n",
    "    print(\"pig\")\n",
    "elif ans == 4:\n",
    "    print(\"rat\")\n",
    "elif ans == 5:\n",
    "    print(\"ox\")\n",
    "elif ans == 6:\n",
    "    print(\"tiger\")\n",
    "elif ans == 7:\n",
    "    print(\"rabbit\")\n",
    "elif ans == 8:\n",
    "    print(\"dragon\")\n",
    "elif ans == 9:\n",
    "    print(\"snake\")\n",
    "elif ans == 10:\n",
    "    print(\"horse\")\n",
    "else:\n",
    "    print(\"sheep\")"
   ]
  },
  {
   "cell_type": "markdown",
   "id": "5bf61511",
   "metadata": {},
   "source": [
    "2."
   ]
  },
  {
   "cell_type": "code",
   "execution_count": 12,
   "id": "6b32be01",
   "metadata": {},
   "outputs": [
    {
     "name": "stdout",
     "output_type": "stream",
     "text": [
      "Current date and time\n",
      "Tuesday, 21/11/2023, 12:22:25\n"
     ]
    }
   ],
   "source": [
    "print(\"1. Add \\n2. Subtract \\n3. Multiply \\n4. Divide\")\n",
    "q = \"Y\"\n",
    "while q == \"Y\":\n",
    "    c = int(input(\"Please choose operations (1, 2, 3, 4) : \"))\n",
    "    if c < 1 or c >4 :\n",
    "        print(\"Your choice is invalid\")\n",
    "        continue\n",
    "    print(\"Enter two numbers : \")\n",
    "    a = int(input(\"Enter number a : \"))\n",
    "    b = int(input(\"Enter number b : \"))\n",
    "    if c == 1:\n",
    "        print(f\"{a} + {b} = \", a+b)\n",
    "    elif c == 2:\n",
    "        print(f\"{a} - {b} = \", a-b)\n",
    "    elif c == 3:\n",
    "        print(f\"{a} * {b} = \", a*b)\n",
    "    elif c == 4:\n",
    "        print(f\"{a} / {b} = \", a/b)\n",
    "    q = input(\"Do you want to continue (Y/N)?\")"
   ]
  },
  {
   "cell_type": "markdown",
   "id": "038f45ca",
   "metadata": {},
   "source": [
    "3."
   ]
  },
  {
   "cell_type": "code",
   "execution_count": 2,
   "id": "d5d8e1f7",
   "metadata": {},
   "outputs": [],
   "source": [
    "a = eval(input(\"Enter a = \"))\n",
    "b = eval(input(\"Enter b = \"))\n",
    "for i in range(a,b+1):\n",
    "    if(i % 2 != 0):\n",
    "        print(i)"
   ]
  }
 ],
 "metadata": {
  "kernelspec": {
   "display_name": "Python 3 (ipykernel)",
   "language": "python",
   "name": "python3"
  },
  "language_info": {
   "codemirror_mode": {
    "name": "ipython",
    "version": 3
   },
   "file_extension": ".py",
   "mimetype": "text/x-python",
   "name": "python",
   "nbconvert_exporter": "python",
   "pygments_lexer": "ipython3",
   "version": "3.11.5"
  }
 },
 "nbformat": 4,
 "nbformat_minor": 5
}
