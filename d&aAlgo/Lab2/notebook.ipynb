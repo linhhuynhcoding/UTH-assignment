{
 "cells": [
  {
   "cell_type": "markdown",
   "metadata": {},
   "source": [
    "### 1. Bài toán nhà máy\n",
    "\n",
    " Một nhà máy sản xuất hai loại sản phẩm (I) và (II) từ hai loại nguyên liệu A và B. Biết rằng mỗi sản phẩm loại I cần 4 đơn vị nguyên liệu A và 2 đơn vị nguyên liệu B; mỗi sản phẩm loại (II) cần 2 đơn vị nguyên liệu A và 4 đơn vị nguyên liệu B. Khi bán một sản phẩm loại I lãi 8 đơn vị tiền, khi bán 1 sản phẩm loại (II) lãi 6 đơn vị tiền. Hãy lập kế hoạch sản xuất sao cho thu lãi nhiều nhất với số dự trữ nguyên liệu có hạn: 60 đơn vị nguyên liệu A và 48 đơn vị nguyên liệu B. "
   ]
  },
  {
   "cell_type": "code",
   "execution_count": 5,
   "metadata": {},
   "outputs": [
    {
     "name": "stdout",
     "output_type": "stream",
     "text": [
      "Solving with Glop solver v9.11.4210\n",
      "Status: 0\n",
      "Solution:\n",
      "Objective value = 132.0\n",
      "x = 11.999999999999996\n",
      "y = 6.000000000000003\n",
      "Advanced usage:\n",
      "Problem solved in 0 milliseconds\n",
      "Problem solved in 2 iterations\n"
     ]
    }
   ],
   "source": [
    "from ortools.init.python import init\n",
    "from ortools.linear_solver import pywraplp\n",
    "\n",
    "def main():\n",
    "    # Create the linear solver with the GLOP backend.\n",
    "    solver = pywraplp.Solver.CreateSolver(\"GLOP\")\n",
    "\n",
    "    # Khởi tạo 2 biến x, y và khoảng giá trị\n",
    "    x = solver.NumVar(0, 20, \"x\")\n",
    "    y = solver.NumVar(0, 20, \"y\")\n",
    "\n",
    "    infinity = solver.infinity()\n",
    "\n",
    "    # Khởi tạo ràng buộc : 4x + 2y <= 60\n",
    "    constraint1 = solver.Constraint(-infinity, 60, \"ct\")\n",
    "    constraint1.SetCoefficient(x, 4) # 4x\n",
    "    constraint1.SetCoefficient(y, 2) # 2y\n",
    "\n",
    "    # Khởi tạo ràng buộc : 2x + 4y <= 48\n",
    "    constraint2 = solver.Constraint(-infinity, 48, \"ct\")\n",
    "    constraint2.SetCoefficient(x, 2) # 2x\n",
    "    constraint2.SetCoefficient(y, 4) # 4y\n",
    "\n",
    "    # Khai báo hàm mục tiêu : f(x, y) = 8x + 6y -> max\n",
    "    objective = solver.Objective()\n",
    "    objective.SetCoefficient(x, 8)\n",
    "    objective.SetCoefficient(y, 6)\n",
    "    objective.SetMaximization()\n",
    "\n",
    "    print(f\"Solving with {solver.SolverVersion()}\")\n",
    "    result_status = solver.Solve()\n",
    "\n",
    "    print(f\"Status: {result_status}\")\n",
    "    if result_status != pywraplp.Solver.OPTIMAL:\n",
    "        print(\"The problem does not have an optimal solution!\")\n",
    "        if result_status == pywraplp.Solver.FEASIBLE:\n",
    "            print(\"A potentially suboptimal solution was found\")\n",
    "        else:\n",
    "            print(\"The solver could not solve the problem.\")\n",
    "            return\n",
    "            \n",
    "\n",
    "    print(\"Solution:\")\n",
    "    print(\"Objective value =\", objective.Value())\n",
    "    print(\"x =\", x.solution_value())\n",
    "    print(\"y =\", y.solution_value())\n",
    "\n",
    "    print(\"Advanced usage:\")\n",
    "    print(f\"Problem solved in {solver.wall_time():d} milliseconds\")\n",
    "    print(f\"Problem solved in {solver.iterations():d} iterations\")\n",
    "    \n",
    "main()"
   ]
  },
  {
   "cell_type": "markdown",
   "metadata": {},
   "source": [
    "### 2. Bài toán kỹ sư\n",
    "\n",
    "Có n kỹ sư và n công việc. Mỗi kỹ sư làm mỗi công việc sẽ được trả công lao động khác nhau. Bài toán yêu cầu thuê mỗi công nhân thực thi một công việc sao cho tổng tiền công phải trả là thấp nhất "
   ]
  },
  {
   "cell_type": "code",
   "execution_count": null,
   "metadata": {},
   "outputs": [],
   "source": []
  }
 ],
 "metadata": {
  "kernelspec": {
   "display_name": "Python 3",
   "language": "python",
   "name": "python3"
  },
  "language_info": {
   "codemirror_mode": {
    "name": "ipython",
    "version": 3
   },
   "file_extension": ".py",
   "mimetype": "text/x-python",
   "name": "python",
   "nbconvert_exporter": "python",
   "pygments_lexer": "ipython3",
   "version": "3.12.2"
  }
 },
 "nbformat": 4,
 "nbformat_minor": 2
}
